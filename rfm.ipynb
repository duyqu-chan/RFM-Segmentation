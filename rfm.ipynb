{
 "cells": [
  {
   "cell_type": "markdown",
   "metadata": {},
   "source": [
    "# Segmenting Customers for Better Marketing  "
   ]
  },
  {
   "cell_type": "markdown",
   "metadata": {},
   "source": [
    "## What is RFM Segmentation?\n",
    "RFM segmentation is a data-driven approach to categorize customers based on their purchasing behavior. It focuses on three key metrics:\n",
    "\n",
    "- Recency (R):\n",
    "\n",
    "Measures the time since a customer's last purchase.\n",
    "A lower recency value indicates a more engaged customer who has purchased recently.\n",
    "Example: Customers who made a purchase last week are more likely to respond to marketing efforts than those who haven't bought anything in a year.\n",
    "- Frequency (F):\n",
    "\n",
    "Counts how often a customer has made purchases during a given period.\n",
    "Higher frequency indicates a more loyal and engaged customer.\n",
    "Example: Customers who purchase weekly are more valuable than those who buy only once a year.\n",
    "- Monetary (M):\n",
    "\n",
    "Represents the total amount of money a customer has spent.\n",
    "Higher monetary values indicate customers who contribute significantly to revenue.\n",
    "\n",
    "RFM segmentation helps businesses tailor their strategies to meet the specific needs of different customer groups. By understanding customer behavior through RFM segmentation, businesses can create targeted campaigns tailored to different customer segments, such as offering exclusive discounts to high-value customers or re-engagement emails to inactive ones. This approach enhances customer retention by identifying customers at risk of churn and implementing personalized win-back campaigns. It also helps maximize revenue by focusing on segments that generate the most value, like \"Champions,\" and designing upselling or cross-selling strategies. Additionally, businesses can allocate resources efficiently by prioritizing segments with the highest ROI, while rewarding loyal customers and nurturing potential ones with incentives like loyalty points, VIP access, or personalized offers. Furthermore, RFM segmentation uncovers growth opportunities in segments like \"Potential Loyalists\" and \"Promising,\" enabling businesses to convert them into loyal or high-value customers and drive sustainable growth.\n",
    "\n",
    "Champions are high-value customers who significantly contribute to revenue. Retaining and delighting them through exclusive rewards, personalized experiences, and loyalty programs ensures long-term profitability. At Risk customers show signs of disengagement and are at a high risk of churn. Businesses should focus on identifying and re-engaging them with personalized win-back campaigns, reminders, or special offers to maintain revenue. Hibernating customers are disengaged and inactive, requiring low-cost campaigns, such as seasonal promotions or \"we miss you\" emails, to reignite their interest. New Customers are in the early stages of their journey and can be nurtured with effective onboarding, personalized product recommendations, and incentives to encourage repeat purchases and build loyalty."
   ]
  },
  {
   "cell_type": "markdown",
   "metadata": {},
   "source": [
    "## Business Problem\n",
    "\n",
    "A UK-based online retailer specializing in unique, all-occasion giftware seeks to enhance its marketing effectiveness by segmenting its customer base. The dataset contains two years of transactional data (01/12/2010 - 09/12/2011) and features predominantly corporate customers, such as wholesalers. The company aims to use Recency (time since the last purchase) and Frequency (number of purchases) metrics to identify meaningful customer segments and develop tailored marketing strategies.\n",
    "\n",
    "Our objective is to group customers by their purchase behavior (e.g., frequent, recent, or dormant buyers).  "
   ]
  },
  {
   "cell_type": "markdown",
   "metadata": {},
   "source": [
    "### Dataset Overview:\n",
    "\n",
    "- **Source:** [UCI Online Retail II Dataset](https://archive.ics.uci.edu/dataset/502/online+retail+ii)  \n",
    "- **Data Size:** 541910 transactions  \n",
    "- **Key Features:**  \n",
    "- **CustomerID:** Unique customer number  \n",
    "- **InvoiceDate:** Date of purchase  \n",
    "- **Quantity:** Number of items bought  \n",
    "- **Price:** Price per item (£)  \n",
    "- **Description:** Description of the purchased item.\n",
    "- **Country:** Country where the customer is located"
   ]
  },
  {
   "cell_type": "markdown",
   "metadata": {},
   "source": [
    "## Data Analysis"
   ]
  },
  {
   "cell_type": "code",
   "execution_count": 1,
   "metadata": {},
   "outputs": [],
   "source": [
    "import datetime as dt\n",
    "import pandas as pd\n",
    "pd.set_option(\"display.max_columns\", None)\n",
    "pd.set_option(\"display.float_format\", lambda x: \"%.3f\" % x)\n",
    "import os\n",
    "from pathlib import Path\n",
    "from datetime import datetime\n",
    "import matplotlib.pyplot as plt\n",
    "import seaborn as sns\n",
    "\n",
    "\n",
    "# Define and set the project root directory as the current working directory\n",
    "project_root = Path().resolve().parent\n",
    "os.chdir(project_root)"
   ]
  },
  {
   "cell_type": "markdown",
   "metadata": {},
   "source": [
    "In the dataset provided, the Invoice column represents unique invoice numbers, while other columns like StockCode and Description represent the individual products within each invoice. It's important to note that a single invoice can contain multiple products. This is why there are multiple rows with the same Invoice number but different details for StockCode, Description, Quantity, and Price."
   ]
  },
  {
   "cell_type": "code",
   "execution_count": 2,
   "metadata": {},
   "outputs": [
    {
     "name": "stdout",
     "output_type": "stream",
     "text": [
      "Data successfully loaded!\n"
     ]
    },
    {
     "data": {
      "text/html": [
       "<div>\n",
       "<style scoped>\n",
       "    .dataframe tbody tr th:only-of-type {\n",
       "        vertical-align: middle;\n",
       "    }\n",
       "\n",
       "    .dataframe tbody tr th {\n",
       "        vertical-align: top;\n",
       "    }\n",
       "\n",
       "    .dataframe thead th {\n",
       "        text-align: right;\n",
       "    }\n",
       "</style>\n",
       "<table border=\"1\" class=\"dataframe\">\n",
       "  <thead>\n",
       "    <tr style=\"text-align: right;\">\n",
       "      <th></th>\n",
       "      <th>Invoice</th>\n",
       "      <th>StockCode</th>\n",
       "      <th>Description</th>\n",
       "      <th>Quantity</th>\n",
       "      <th>InvoiceDate</th>\n",
       "      <th>Price</th>\n",
       "      <th>Customer ID</th>\n",
       "      <th>Country</th>\n",
       "    </tr>\n",
       "  </thead>\n",
       "  <tbody>\n",
       "    <tr>\n",
       "      <th>0</th>\n",
       "      <td>536365</td>\n",
       "      <td>85123A</td>\n",
       "      <td>WHITE HANGING HEART T-LIGHT HOLDER</td>\n",
       "      <td>6</td>\n",
       "      <td>2010-12-01 08:26:00</td>\n",
       "      <td>2.550</td>\n",
       "      <td>17850.000</td>\n",
       "      <td>United Kingdom</td>\n",
       "    </tr>\n",
       "    <tr>\n",
       "      <th>1</th>\n",
       "      <td>536365</td>\n",
       "      <td>71053</td>\n",
       "      <td>WHITE METAL LANTERN</td>\n",
       "      <td>6</td>\n",
       "      <td>2010-12-01 08:26:00</td>\n",
       "      <td>3.390</td>\n",
       "      <td>17850.000</td>\n",
       "      <td>United Kingdom</td>\n",
       "    </tr>\n",
       "    <tr>\n",
       "      <th>2</th>\n",
       "      <td>536365</td>\n",
       "      <td>84406B</td>\n",
       "      <td>CREAM CUPID HEARTS COAT HANGER</td>\n",
       "      <td>8</td>\n",
       "      <td>2010-12-01 08:26:00</td>\n",
       "      <td>2.750</td>\n",
       "      <td>17850.000</td>\n",
       "      <td>United Kingdom</td>\n",
       "    </tr>\n",
       "    <tr>\n",
       "      <th>3</th>\n",
       "      <td>536365</td>\n",
       "      <td>84029G</td>\n",
       "      <td>KNITTED UNION FLAG HOT WATER BOTTLE</td>\n",
       "      <td>6</td>\n",
       "      <td>2010-12-01 08:26:00</td>\n",
       "      <td>3.390</td>\n",
       "      <td>17850.000</td>\n",
       "      <td>United Kingdom</td>\n",
       "    </tr>\n",
       "    <tr>\n",
       "      <th>4</th>\n",
       "      <td>536365</td>\n",
       "      <td>84029E</td>\n",
       "      <td>RED WOOLLY HOTTIE WHITE HEART.</td>\n",
       "      <td>6</td>\n",
       "      <td>2010-12-01 08:26:00</td>\n",
       "      <td>3.390</td>\n",
       "      <td>17850.000</td>\n",
       "      <td>United Kingdom</td>\n",
       "    </tr>\n",
       "  </tbody>\n",
       "</table>\n",
       "</div>"
      ],
      "text/plain": [
       "  Invoice StockCode                          Description  Quantity  \\\n",
       "0  536365    85123A   WHITE HANGING HEART T-LIGHT HOLDER         6   \n",
       "1  536365     71053                  WHITE METAL LANTERN         6   \n",
       "2  536365    84406B       CREAM CUPID HEARTS COAT HANGER         8   \n",
       "3  536365    84029G  KNITTED UNION FLAG HOT WATER BOTTLE         6   \n",
       "4  536365    84029E       RED WOOLLY HOTTIE WHITE HEART.         6   \n",
       "\n",
       "          InvoiceDate  Price  Customer ID         Country  \n",
       "0 2010-12-01 08:26:00  2.550    17850.000  United Kingdom  \n",
       "1 2010-12-01 08:26:00  3.390    17850.000  United Kingdom  \n",
       "2 2010-12-01 08:26:00  2.750    17850.000  United Kingdom  \n",
       "3 2010-12-01 08:26:00  3.390    17850.000  United Kingdom  \n",
       "4 2010-12-01 08:26:00  3.390    17850.000  United Kingdom  "
      ]
     },
     "metadata": {},
     "output_type": "display_data"
    }
   ],
   "source": [
    "# Define the data directory and file name\n",
    "data_directory = Path(\"D:/Veri/CRM\")\n",
    "file_name = \"online_retail_II.xlsx\"\n",
    "file_path = data_directory / file_name\n",
    "\n",
    "# Read the Excel file\n",
    "if file_path.exists():\n",
    "    df_original = pd.read_excel(file_path, sheet_name=\"Year 2010-2011\")\n",
    "    print(\"Data successfully loaded!\")\n",
    "    display(df_original.head())\n",
    "else:\n",
    "    print(f\"File not found: {file_path}\")"
   ]
  },
  {
   "cell_type": "markdown",
   "metadata": {},
   "source": [
    "Save the original version of the data set for back-up purposes."
   ]
  },
  {
   "cell_type": "code",
   "execution_count": 3,
   "metadata": {},
   "outputs": [
    {
     "data": {
      "text/plain": [
       "(541910, 8)"
      ]
     },
     "execution_count": 3,
     "metadata": {},
     "output_type": "execute_result"
    }
   ],
   "source": [
    "df = df_original.copy(True)\n",
    "df.shape"
   ]
  },
  {
   "cell_type": "code",
   "execution_count": 4,
   "metadata": {},
   "outputs": [
    {
     "name": "stdout",
     "output_type": "stream",
     "text": [
      "<class 'pandas.core.frame.DataFrame'>\n",
      "RangeIndex: 541910 entries, 0 to 541909\n",
      "Data columns (total 8 columns):\n",
      " #   Column       Non-Null Count   Dtype         \n",
      "---  ------       --------------   -----         \n",
      " 0   Invoice      541910 non-null  object        \n",
      " 1   StockCode    541910 non-null  object        \n",
      " 2   Description  540456 non-null  object        \n",
      " 3   Quantity     541910 non-null  int64         \n",
      " 4   InvoiceDate  541910 non-null  datetime64[ns]\n",
      " 5   Price        541910 non-null  float64       \n",
      " 6   Customer ID  406830 non-null  float64       \n",
      " 7   Country      541910 non-null  object        \n",
      "dtypes: datetime64[ns](1), float64(2), int64(1), object(4)\n",
      "memory usage: 33.1+ MB\n"
     ]
    }
   ],
   "source": [
    "df.info()"
   ]
  },
  {
   "cell_type": "markdown",
   "metadata": {},
   "source": [
    "- There are  135080 rows without a valid customer id but we cannot segment customers if we donot know them. So, we need to drop null values of this column."
   ]
  },
  {
   "cell_type": "code",
   "execution_count": 5,
   "metadata": {},
   "outputs": [
    {
     "data": {
      "text/plain": [
       "Invoice             0\n",
       "StockCode           0\n",
       "Description      1454\n",
       "Quantity            0\n",
       "InvoiceDate         0\n",
       "Price               0\n",
       "Customer ID    135080\n",
       "Country             0\n",
       "dtype: int64"
      ]
     },
     "execution_count": 5,
     "metadata": {},
     "output_type": "execute_result"
    }
   ],
   "source": [
    "df.isnull().sum()"
   ]
  },
  {
   "cell_type": "markdown",
   "metadata": {},
   "source": [
    "- Number of unique products sold."
   ]
  },
  {
   "cell_type": "code",
   "execution_count": 6,
   "metadata": {},
   "outputs": [
    {
     "data": {
      "text/plain": [
       "4070"
      ]
     },
     "execution_count": 6,
     "metadata": {},
     "output_type": "execute_result"
    }
   ],
   "source": [
    "df.StockCode.nunique()"
   ]
  },
  {
   "cell_type": "markdown",
   "metadata": {},
   "source": [
    "- Top ten products sold:"
   ]
  },
  {
   "cell_type": "code",
   "execution_count": 7,
   "metadata": {},
   "outputs": [
    {
     "data": {
      "text/plain": [
       "StockCode\n",
       "23843     80995\n",
       "23166     78033\n",
       "22197     56921\n",
       "84077     55047\n",
       "85099B    48478\n",
       "85123A    41664\n",
       "84879     36461\n",
       "21212     36419\n",
       "23084     31722\n",
       "22492     26633\n",
       "Name: Quantity, dtype: int64"
      ]
     },
     "execution_count": 7,
     "metadata": {},
     "output_type": "execute_result"
    }
   ],
   "source": [
    "df[df[\"Quantity\"] > 0].groupby(\"StockCode\")[\"Quantity\"].sum().sort_values(ascending=False).head(10)"
   ]
  },
  {
   "cell_type": "markdown",
   "metadata": {},
   "source": [
    "- Number of unique invoices:"
   ]
  },
  {
   "cell_type": "code",
   "execution_count": 8,
   "metadata": {},
   "outputs": [
    {
     "data": {
      "text/plain": [
       "25900"
      ]
     },
     "execution_count": 8,
     "metadata": {},
     "output_type": "execute_result"
    }
   ],
   "source": [
    "df[\"Invoice\"].nunique()"
   ]
  },
  {
   "cell_type": "markdown",
   "metadata": {},
   "source": [
    "- Total Price per Invoice:"
   ]
  },
  {
   "cell_type": "code",
   "execution_count": 9,
   "metadata": {},
   "outputs": [
    {
     "data": {
      "text/plain": [
       "Invoice\n",
       "536365        139.120\n",
       "536366         22.200\n",
       "536367        278.730\n",
       "536368         70.050\n",
       "536369         17.850\n",
       "              ...    \n",
       "C581484   -168469.600\n",
       "C581490       -32.530\n",
       "C581499      -224.690\n",
       "C581568       -54.750\n",
       "C581569        -7.500\n",
       "Name: TotalPrice, Length: 25900, dtype: float64"
      ]
     },
     "execution_count": 9,
     "metadata": {},
     "output_type": "execute_result"
    }
   ],
   "source": [
    "df[\"TotalPrice\"] = df[\"Quantity\"]*df[\"Price\"]\n",
    "df.groupby(\"Invoice\")[\"TotalPrice\"].sum()"
   ]
  },
  {
   "cell_type": "markdown",
   "metadata": {},
   "source": [
    "- There are products with negative prices, which seems unreal."
   ]
  },
  {
   "cell_type": "code",
   "execution_count": 10,
   "metadata": {},
   "outputs": [
    {
     "data": {
      "text/html": [
       "<div>\n",
       "<style scoped>\n",
       "    .dataframe tbody tr th:only-of-type {\n",
       "        vertical-align: middle;\n",
       "    }\n",
       "\n",
       "    .dataframe tbody tr th {\n",
       "        vertical-align: top;\n",
       "    }\n",
       "\n",
       "    .dataframe thead th {\n",
       "        text-align: right;\n",
       "    }\n",
       "</style>\n",
       "<table border=\"1\" class=\"dataframe\">\n",
       "  <thead>\n",
       "    <tr style=\"text-align: right;\">\n",
       "      <th></th>\n",
       "      <th>Invoice</th>\n",
       "      <th>StockCode</th>\n",
       "      <th>Description</th>\n",
       "      <th>Quantity</th>\n",
       "      <th>InvoiceDate</th>\n",
       "      <th>Price</th>\n",
       "      <th>Customer ID</th>\n",
       "      <th>Country</th>\n",
       "      <th>TotalPrice</th>\n",
       "    </tr>\n",
       "  </thead>\n",
       "  <tbody>\n",
       "    <tr>\n",
       "      <th>299983</th>\n",
       "      <td>A563186</td>\n",
       "      <td>B</td>\n",
       "      <td>Adjust bad debt</td>\n",
       "      <td>1</td>\n",
       "      <td>2011-08-12 14:51:00</td>\n",
       "      <td>-11062.060</td>\n",
       "      <td>NaN</td>\n",
       "      <td>United Kingdom</td>\n",
       "      <td>-11062.060</td>\n",
       "    </tr>\n",
       "    <tr>\n",
       "      <th>299984</th>\n",
       "      <td>A563187</td>\n",
       "      <td>B</td>\n",
       "      <td>Adjust bad debt</td>\n",
       "      <td>1</td>\n",
       "      <td>2011-08-12 14:52:00</td>\n",
       "      <td>-11062.060</td>\n",
       "      <td>NaN</td>\n",
       "      <td>United Kingdom</td>\n",
       "      <td>-11062.060</td>\n",
       "    </tr>\n",
       "  </tbody>\n",
       "</table>\n",
       "</div>"
      ],
      "text/plain": [
       "        Invoice StockCode      Description  Quantity         InvoiceDate  \\\n",
       "299983  A563186         B  Adjust bad debt         1 2011-08-12 14:51:00   \n",
       "299984  A563187         B  Adjust bad debt         1 2011-08-12 14:52:00   \n",
       "\n",
       "            Price  Customer ID         Country  TotalPrice  \n",
       "299983 -11062.060          NaN  United Kingdom  -11062.060  \n",
       "299984 -11062.060          NaN  United Kingdom  -11062.060  "
      ]
     },
     "execution_count": 10,
     "metadata": {},
     "output_type": "execute_result"
    }
   ],
   "source": [
    "df[df[\"Price\"] < 0] "
   ]
  },
  {
   "cell_type": "markdown",
   "metadata": {},
   "source": [
    "This chart illustrates the revenue trends over time, highlighting periods of growth and decline. The sharp increase in late 2011 suggests successful engagement with high-value customers or seasonal demand. However, the drop at the end of the timeline requires further investigation to determine if it's due to incomplete data or a seasonal effect."
   ]
  },
  {
   "cell_type": "code",
   "execution_count": 11,
   "metadata": {},
   "outputs": [
    {
     "data": {
      "image/png": "[encoded data removed]",
      "text/plain": [
       "<Figure size 1200x600 with 1 Axes>"
      ]
     },
     "metadata": {},
     "output_type": "display_data"
    }
   ],
   "source": [
    "# Ensure InvoiceDate is in datetime format\n",
    "df['InvoiceDate'] = pd.to_datetime(df['InvoiceDate'])\n",
    "\n",
    "# Aggregate revenue by month\n",
    "revenue_trends = df.groupby(df['InvoiceDate'].dt.to_period('M'))['TotalPrice'].sum().reset_index()\n",
    "revenue_trends['InvoiceDate'] = revenue_trends['InvoiceDate'].dt.to_timestamp()  # Convert Period to Timestamp for plotting\n",
    "\n",
    "# Plot the revenue trends\n",
    "plt.figure(figsize=(12, 6))\n",
    "plt.plot(revenue_trends['InvoiceDate'], revenue_trends['TotalPrice'], marker='o', linestyle='-', color='blue')\n",
    "plt.title(\"Monetary Value Trends Over Time\", fontsize=14)\n",
    "plt.xlabel(\"Month\", fontsize=12)\n",
    "plt.ylabel(\"Total Revenue\", fontsize=12)\n",
    "plt.grid(alpha=0.3)\n",
    "plt.xticks(rotation=45)\n",
    "plt.tight_layout()\n",
    "plt.show()\n"
   ]
  },
  {
   "cell_type": "markdown",
   "metadata": {},
   "source": [
    " ## Data Preprocessing"
   ]
  },
  {
   "cell_type": "markdown",
   "metadata": {},
   "source": [
    "- Drop missing customers."
   ]
  },
  {
   "cell_type": "code",
   "execution_count": 12,
   "metadata": {},
   "outputs": [
    {
     "data": {
      "text/plain": [
       "Invoice        0\n",
       "StockCode      0\n",
       "Description    0\n",
       "Quantity       0\n",
       "InvoiceDate    0\n",
       "Price          0\n",
       "Customer ID    0\n",
       "Country        0\n",
       "TotalPrice     0\n",
       "dtype: int64"
      ]
     },
     "execution_count": 12,
     "metadata": {},
     "output_type": "execute_result"
    }
   ],
   "source": [
    "df = df[df[\"Customer ID\"].notna()]\n",
    "df.isna().sum()"
   ]
  },
  {
   "cell_type": "markdown",
   "metadata": {},
   "source": [
    "- The negatively priced products dropped too!"
   ]
  },
  {
   "cell_type": "code",
   "execution_count": 13,
   "metadata": {},
   "outputs": [
    {
     "data": {
      "text/html": [
       "<div>\n",
       "<style scoped>\n",
       "    .dataframe tbody tr th:only-of-type {\n",
       "        vertical-align: middle;\n",
       "    }\n",
       "\n",
       "    .dataframe tbody tr th {\n",
       "        vertical-align: top;\n",
       "    }\n",
       "\n",
       "    .dataframe thead th {\n",
       "        text-align: right;\n",
       "    }\n",
       "</style>\n",
       "<table border=\"1\" class=\"dataframe\">\n",
       "  <thead>\n",
       "    <tr style=\"text-align: right;\">\n",
       "      <th></th>\n",
       "      <th>Invoice</th>\n",
       "      <th>StockCode</th>\n",
       "      <th>Description</th>\n",
       "      <th>Quantity</th>\n",
       "      <th>InvoiceDate</th>\n",
       "      <th>Price</th>\n",
       "      <th>Customer ID</th>\n",
       "      <th>Country</th>\n",
       "      <th>TotalPrice</th>\n",
       "    </tr>\n",
       "  </thead>\n",
       "  <tbody>\n",
       "  </tbody>\n",
       "</table>\n",
       "</div>"
      ],
      "text/plain": [
       "Empty DataFrame\n",
       "Columns: [Invoice, StockCode, Description, Quantity, InvoiceDate, Price, Customer ID, Country, TotalPrice]\n",
       "Index: []"
      ]
     },
     "execution_count": 13,
     "metadata": {},
     "output_type": "execute_result"
    }
   ],
   "source": [
    "df[df[\"Price\"] < 0] "
   ]
  },
  {
   "cell_type": "markdown",
   "metadata": {},
   "source": [
    "- Upon dropping missing customers, dataframe is shrinked a little."
   ]
  },
  {
   "cell_type": "code",
   "execution_count": 14,
   "metadata": {},
   "outputs": [
    {
     "data": {
      "text/plain": [
       "(406830, 9)"
      ]
     },
     "execution_count": 14,
     "metadata": {},
     "output_type": "execute_result"
    }
   ],
   "source": [
    "df.shape"
   ]
  },
  {
   "cell_type": "markdown",
   "metadata": {},
   "source": [
    "There are negative values in the dataset due to returned products whose invoices starts with \"C\"."
   ]
  },
  {
   "cell_type": "code",
   "execution_count": 15,
   "metadata": {},
   "outputs": [
    {
     "data": {
      "text/html": [
       "<div>\n",
       "<style scoped>\n",
       "    .dataframe tbody tr th:only-of-type {\n",
       "        vertical-align: middle;\n",
       "    }\n",
       "\n",
       "    .dataframe tbody tr th {\n",
       "        vertical-align: top;\n",
       "    }\n",
       "\n",
       "    .dataframe thead th {\n",
       "        text-align: right;\n",
       "    }\n",
       "</style>\n",
       "<table border=\"1\" class=\"dataframe\">\n",
       "  <thead>\n",
       "    <tr style=\"text-align: right;\">\n",
       "      <th></th>\n",
       "      <th>Invoice</th>\n",
       "      <th>StockCode</th>\n",
       "      <th>Description</th>\n",
       "      <th>Quantity</th>\n",
       "      <th>InvoiceDate</th>\n",
       "      <th>Price</th>\n",
       "      <th>Customer ID</th>\n",
       "      <th>Country</th>\n",
       "      <th>TotalPrice</th>\n",
       "    </tr>\n",
       "  </thead>\n",
       "  <tbody>\n",
       "    <tr>\n",
       "      <th>141</th>\n",
       "      <td>C536379</td>\n",
       "      <td>D</td>\n",
       "      <td>Discount</td>\n",
       "      <td>-1</td>\n",
       "      <td>2010-12-01 09:41:00</td>\n",
       "      <td>27.500</td>\n",
       "      <td>14527.000</td>\n",
       "      <td>United Kingdom</td>\n",
       "      <td>-27.500</td>\n",
       "    </tr>\n",
       "    <tr>\n",
       "      <th>154</th>\n",
       "      <td>C536383</td>\n",
       "      <td>35004C</td>\n",
       "      <td>SET OF 3 COLOURED  FLYING DUCKS</td>\n",
       "      <td>-1</td>\n",
       "      <td>2010-12-01 09:49:00</td>\n",
       "      <td>4.650</td>\n",
       "      <td>15311.000</td>\n",
       "      <td>United Kingdom</td>\n",
       "      <td>-4.650</td>\n",
       "    </tr>\n",
       "    <tr>\n",
       "      <th>235</th>\n",
       "      <td>C536391</td>\n",
       "      <td>22556</td>\n",
       "      <td>PLASTERS IN TIN CIRCUS PARADE</td>\n",
       "      <td>-12</td>\n",
       "      <td>2010-12-01 10:24:00</td>\n",
       "      <td>1.650</td>\n",
       "      <td>17548.000</td>\n",
       "      <td>United Kingdom</td>\n",
       "      <td>-19.800</td>\n",
       "    </tr>\n",
       "    <tr>\n",
       "      <th>236</th>\n",
       "      <td>C536391</td>\n",
       "      <td>21984</td>\n",
       "      <td>PACK OF 12 PINK PAISLEY TISSUES</td>\n",
       "      <td>-24</td>\n",
       "      <td>2010-12-01 10:24:00</td>\n",
       "      <td>0.290</td>\n",
       "      <td>17548.000</td>\n",
       "      <td>United Kingdom</td>\n",
       "      <td>-6.960</td>\n",
       "    </tr>\n",
       "    <tr>\n",
       "      <th>237</th>\n",
       "      <td>C536391</td>\n",
       "      <td>21983</td>\n",
       "      <td>PACK OF 12 BLUE PAISLEY TISSUES</td>\n",
       "      <td>-24</td>\n",
       "      <td>2010-12-01 10:24:00</td>\n",
       "      <td>0.290</td>\n",
       "      <td>17548.000</td>\n",
       "      <td>United Kingdom</td>\n",
       "      <td>-6.960</td>\n",
       "    </tr>\n",
       "  </tbody>\n",
       "</table>\n",
       "</div>"
      ],
      "text/plain": [
       "     Invoice StockCode                       Description  Quantity  \\\n",
       "141  C536379         D                          Discount        -1   \n",
       "154  C536383    35004C   SET OF 3 COLOURED  FLYING DUCKS        -1   \n",
       "235  C536391     22556    PLASTERS IN TIN CIRCUS PARADE        -12   \n",
       "236  C536391     21984  PACK OF 12 PINK PAISLEY TISSUES        -24   \n",
       "237  C536391     21983  PACK OF 12 BLUE PAISLEY TISSUES        -24   \n",
       "\n",
       "            InvoiceDate  Price  Customer ID         Country  TotalPrice  \n",
       "141 2010-12-01 09:41:00 27.500    14527.000  United Kingdom     -27.500  \n",
       "154 2010-12-01 09:49:00  4.650    15311.000  United Kingdom      -4.650  \n",
       "235 2010-12-01 10:24:00  1.650    17548.000  United Kingdom     -19.800  \n",
       "236 2010-12-01 10:24:00  0.290    17548.000  United Kingdom      -6.960  \n",
       "237 2010-12-01 10:24:00  0.290    17548.000  United Kingdom      -6.960  "
      ]
     },
     "execution_count": 15,
     "metadata": {},
     "output_type": "execute_result"
    }
   ],
   "source": [
    "returns_mask = df[\"Invoice\"].str.contains(\"C\", na=False)\n",
    "df_returns = df[returns_mask]\n",
    "df = df[~returns_mask] # original purchases\n",
    "df_returns.head()"
   ]
  },
  {
   "cell_type": "markdown",
   "metadata": {},
   "source": [
    "We need to deduct returns from their corresponding purchase invoices to calculate the net sales."
   ]
  },
  {
   "cell_type": "code",
   "execution_count": 16,
   "metadata": {},
   "outputs": [
    {
     "data": {
      "text/html": [
       "<div>\n",
       "<style scoped>\n",
       "    .dataframe tbody tr th:only-of-type {\n",
       "        vertical-align: middle;\n",
       "    }\n",
       "\n",
       "    .dataframe tbody tr th {\n",
       "        vertical-align: top;\n",
       "    }\n",
       "\n",
       "    .dataframe thead th {\n",
       "        text-align: right;\n",
       "    }\n",
       "</style>\n",
       "<table border=\"1\" class=\"dataframe\">\n",
       "  <thead>\n",
       "    <tr style=\"text-align: right;\">\n",
       "      <th></th>\n",
       "      <th>Invoice_purchase</th>\n",
       "      <th>StockCode</th>\n",
       "      <th>Description_purchase</th>\n",
       "      <th>Quantity_purchase</th>\n",
       "      <th>InvoiceDate_purchase</th>\n",
       "      <th>Price_purchase</th>\n",
       "      <th>Customer ID</th>\n",
       "      <th>Country_purchase</th>\n",
       "      <th>TotalPrice_purchase</th>\n",
       "      <th>Invoice_return</th>\n",
       "      <th>Description_return</th>\n",
       "      <th>Quantity_return</th>\n",
       "      <th>InvoiceDate_return</th>\n",
       "      <th>Price_return</th>\n",
       "      <th>Country_return</th>\n",
       "      <th>TotalPrice_return</th>\n",
       "      <th>NetQuantity</th>\n",
       "      <th>NetTotalPrice</th>\n",
       "    </tr>\n",
       "  </thead>\n",
       "  <tbody>\n",
       "    <tr>\n",
       "      <th>0</th>\n",
       "      <td>536365</td>\n",
       "      <td>85123A</td>\n",
       "      <td>WHITE HANGING HEART T-LIGHT HOLDER</td>\n",
       "      <td>6</td>\n",
       "      <td>2010-12-01 08:26:00</td>\n",
       "      <td>2.550</td>\n",
       "      <td>17850.000</td>\n",
       "      <td>United Kingdom</td>\n",
       "      <td>15.300</td>\n",
       "      <td>NaN</td>\n",
       "      <td>NaN</td>\n",
       "      <td>0.000</td>\n",
       "      <td>NaT</td>\n",
       "      <td>0.000</td>\n",
       "      <td>NaN</td>\n",
       "      <td>NaN</td>\n",
       "      <td>6.000</td>\n",
       "      <td>15.300</td>\n",
       "    </tr>\n",
       "    <tr>\n",
       "      <th>1</th>\n",
       "      <td>536365</td>\n",
       "      <td>71053</td>\n",
       "      <td>WHITE METAL LANTERN</td>\n",
       "      <td>6</td>\n",
       "      <td>2010-12-01 08:26:00</td>\n",
       "      <td>3.390</td>\n",
       "      <td>17850.000</td>\n",
       "      <td>United Kingdom</td>\n",
       "      <td>20.340</td>\n",
       "      <td>NaN</td>\n",
       "      <td>NaN</td>\n",
       "      <td>0.000</td>\n",
       "      <td>NaT</td>\n",
       "      <td>0.000</td>\n",
       "      <td>NaN</td>\n",
       "      <td>NaN</td>\n",
       "      <td>6.000</td>\n",
       "      <td>20.340</td>\n",
       "    </tr>\n",
       "    <tr>\n",
       "      <th>2</th>\n",
       "      <td>536365</td>\n",
       "      <td>84406B</td>\n",
       "      <td>CREAM CUPID HEARTS COAT HANGER</td>\n",
       "      <td>8</td>\n",
       "      <td>2010-12-01 08:26:00</td>\n",
       "      <td>2.750</td>\n",
       "      <td>17850.000</td>\n",
       "      <td>United Kingdom</td>\n",
       "      <td>22.000</td>\n",
       "      <td>NaN</td>\n",
       "      <td>NaN</td>\n",
       "      <td>0.000</td>\n",
       "      <td>NaT</td>\n",
       "      <td>0.000</td>\n",
       "      <td>NaN</td>\n",
       "      <td>NaN</td>\n",
       "      <td>8.000</td>\n",
       "      <td>22.000</td>\n",
       "    </tr>\n",
       "    <tr>\n",
       "      <th>3</th>\n",
       "      <td>536365</td>\n",
       "      <td>84029G</td>\n",
       "      <td>KNITTED UNION FLAG HOT WATER BOTTLE</td>\n",
       "      <td>6</td>\n",
       "      <td>2010-12-01 08:26:00</td>\n",
       "      <td>3.390</td>\n",
       "      <td>17850.000</td>\n",
       "      <td>United Kingdom</td>\n",
       "      <td>20.340</td>\n",
       "      <td>NaN</td>\n",
       "      <td>NaN</td>\n",
       "      <td>0.000</td>\n",
       "      <td>NaT</td>\n",
       "      <td>0.000</td>\n",
       "      <td>NaN</td>\n",
       "      <td>NaN</td>\n",
       "      <td>6.000</td>\n",
       "      <td>20.340</td>\n",
       "    </tr>\n",
       "    <tr>\n",
       "      <th>4</th>\n",
       "      <td>536365</td>\n",
       "      <td>84029E</td>\n",
       "      <td>RED WOOLLY HOTTIE WHITE HEART.</td>\n",
       "      <td>6</td>\n",
       "      <td>2010-12-01 08:26:00</td>\n",
       "      <td>3.390</td>\n",
       "      <td>17850.000</td>\n",
       "      <td>United Kingdom</td>\n",
       "      <td>20.340</td>\n",
       "      <td>NaN</td>\n",
       "      <td>NaN</td>\n",
       "      <td>0.000</td>\n",
       "      <td>NaT</td>\n",
       "      <td>0.000</td>\n",
       "      <td>NaN</td>\n",
       "      <td>NaN</td>\n",
       "      <td>6.000</td>\n",
       "      <td>20.340</td>\n",
       "    </tr>\n",
       "  </tbody>\n",
       "</table>\n",
       "</div>"
      ],
      "text/plain": [
       "  Invoice_purchase StockCode                 Description_purchase  \\\n",
       "0           536365    85123A   WHITE HANGING HEART T-LIGHT HOLDER   \n",
       "1           536365     71053                  WHITE METAL LANTERN   \n",
       "2           536365    84406B       CREAM CUPID HEARTS COAT HANGER   \n",
       "3           536365    84029G  KNITTED UNION FLAG HOT WATER BOTTLE   \n",
       "4           536365    84029E       RED WOOLLY HOTTIE WHITE HEART.   \n",
       "\n",
       "   Quantity_purchase InvoiceDate_purchase  Price_purchase  Customer ID  \\\n",
       "0                  6  2010-12-01 08:26:00           2.550    17850.000   \n",
       "1                  6  2010-12-01 08:26:00           3.390    17850.000   \n",
       "2                  8  2010-12-01 08:26:00           2.750    17850.000   \n",
       "3                  6  2010-12-01 08:26:00           3.390    17850.000   \n",
       "4                  6  2010-12-01 08:26:00           3.390    17850.000   \n",
       "\n",
       "  Country_purchase  TotalPrice_purchase Invoice_return Description_return  \\\n",
       "0   United Kingdom               15.300            NaN                NaN   \n",
       "1   United Kingdom               20.340            NaN                NaN   \n",
       "2   United Kingdom               22.000            NaN                NaN   \n",
       "3   United Kingdom               20.340            NaN                NaN   \n",
       "4   United Kingdom               20.340            NaN                NaN   \n",
       "\n",
       "   Quantity_return InvoiceDate_return  Price_return Country_return  \\\n",
       "0            0.000                NaT         0.000            NaN   \n",
       "1            0.000                NaT         0.000            NaN   \n",
       "2            0.000                NaT         0.000            NaN   \n",
       "3            0.000                NaT         0.000            NaN   \n",
       "4            0.000                NaT         0.000            NaN   \n",
       "\n",
       "   TotalPrice_return  NetQuantity  NetTotalPrice  \n",
       "0                NaN        6.000         15.300  \n",
       "1                NaN        6.000         20.340  \n",
       "2                NaN        8.000         22.000  \n",
       "3                NaN        6.000         20.340  \n",
       "4                NaN        6.000         20.340  "
      ]
     },
     "execution_count": 16,
     "metadata": {},
     "output_type": "execute_result"
    }
   ],
   "source": [
    "# Ensure purchases and returns are filtered properly\n",
    "df_purchases = df[df[\"Quantity\"] > 0]\n",
    "df_returns = df[df[\"Quantity\"] < 0]\n",
    "\n",
    "# Merge returns with original purchases based on 'Customer ID' and 'StockCode'\n",
    "merged_df = pd.merge(\n",
    "    df_purchases,\n",
    "    df_returns,\n",
    "    on=[\"Customer ID\", \"StockCode\"],\n",
    "    suffixes=(\"_purchase\", \"_return\"),\n",
    "    how=\"left\"\n",
    ")\n",
    "\n",
    "# Replace NaN values in return-related columns with 0\n",
    "merged_df[\"Quantity_return\"] = merged_df[\"Quantity_return\"].fillna(0)\n",
    "merged_df[\"Price_return\"] = merged_df[\"Price_return\"].fillna(0)\n",
    "\n",
    "# Calculate net sales (adjusted quantity and total price)\n",
    "merged_df[\"NetQuantity\"] = merged_df[\"Quantity_purchase\"] + merged_df[\"Quantity_return\"]\n",
    "merged_df[\"NetTotalPrice\"] = merged_df[\"NetQuantity\"] * merged_df[\"Price_purchase\"]\n",
    "\n",
    "# Display the first few rows\n",
    "merged_df.head()\n"
   ]
  },
  {
   "cell_type": "code",
   "execution_count": 17,
   "metadata": {},
   "outputs": [
    {
     "data": {
      "text/plain": [
       "(397925, 18)"
      ]
     },
     "execution_count": 17,
     "metadata": {},
     "output_type": "execute_result"
    }
   ],
   "source": [
    "merged_df.shape"
   ]
  },
  {
   "cell_type": "code",
   "execution_count": 18,
   "metadata": {},
   "outputs": [
    {
     "data": {
      "text/html": [
       "<div>\n",
       "<style scoped>\n",
       "    .dataframe tbody tr th:only-of-type {\n",
       "        vertical-align: middle;\n",
       "    }\n",
       "\n",
       "    .dataframe tbody tr th {\n",
       "        vertical-align: top;\n",
       "    }\n",
       "\n",
       "    .dataframe thead th {\n",
       "        text-align: right;\n",
       "    }\n",
       "</style>\n",
       "<table border=\"1\" class=\"dataframe\">\n",
       "  <thead>\n",
       "    <tr style=\"text-align: right;\">\n",
       "      <th></th>\n",
       "      <th>Invoice</th>\n",
       "      <th>StockCode</th>\n",
       "      <th>Description</th>\n",
       "      <th>NetQuantity</th>\n",
       "      <th>InvoiceDate</th>\n",
       "      <th>Price</th>\n",
       "      <th>Customer ID</th>\n",
       "      <th>Country</th>\n",
       "      <th>NetTotalPrice</th>\n",
       "    </tr>\n",
       "  </thead>\n",
       "  <tbody>\n",
       "    <tr>\n",
       "      <th>0</th>\n",
       "      <td>536365</td>\n",
       "      <td>85123A</td>\n",
       "      <td>WHITE HANGING HEART T-LIGHT HOLDER</td>\n",
       "      <td>6.000</td>\n",
       "      <td>2010-12-01 08:26:00</td>\n",
       "      <td>2.550</td>\n",
       "      <td>17850.000</td>\n",
       "      <td>United Kingdom</td>\n",
       "      <td>15.300</td>\n",
       "    </tr>\n",
       "    <tr>\n",
       "      <th>1</th>\n",
       "      <td>536365</td>\n",
       "      <td>71053</td>\n",
       "      <td>WHITE METAL LANTERN</td>\n",
       "      <td>6.000</td>\n",
       "      <td>2010-12-01 08:26:00</td>\n",
       "      <td>3.390</td>\n",
       "      <td>17850.000</td>\n",
       "      <td>United Kingdom</td>\n",
       "      <td>20.340</td>\n",
       "    </tr>\n",
       "    <tr>\n",
       "      <th>2</th>\n",
       "      <td>536365</td>\n",
       "      <td>84406B</td>\n",
       "      <td>CREAM CUPID HEARTS COAT HANGER</td>\n",
       "      <td>8.000</td>\n",
       "      <td>2010-12-01 08:26:00</td>\n",
       "      <td>2.750</td>\n",
       "      <td>17850.000</td>\n",
       "      <td>United Kingdom</td>\n",
       "      <td>22.000</td>\n",
       "    </tr>\n",
       "    <tr>\n",
       "      <th>3</th>\n",
       "      <td>536365</td>\n",
       "      <td>84029G</td>\n",
       "      <td>KNITTED UNION FLAG HOT WATER BOTTLE</td>\n",
       "      <td>6.000</td>\n",
       "      <td>2010-12-01 08:26:00</td>\n",
       "      <td>3.390</td>\n",
       "      <td>17850.000</td>\n",
       "      <td>United Kingdom</td>\n",
       "      <td>20.340</td>\n",
       "    </tr>\n",
       "    <tr>\n",
       "      <th>4</th>\n",
       "      <td>536365</td>\n",
       "      <td>84029E</td>\n",
       "      <td>RED WOOLLY HOTTIE WHITE HEART.</td>\n",
       "      <td>6.000</td>\n",
       "      <td>2010-12-01 08:26:00</td>\n",
       "      <td>3.390</td>\n",
       "      <td>17850.000</td>\n",
       "      <td>United Kingdom</td>\n",
       "      <td>20.340</td>\n",
       "    </tr>\n",
       "  </tbody>\n",
       "</table>\n",
       "</div>"
      ],
      "text/plain": [
       "  Invoice StockCode                          Description  NetQuantity  \\\n",
       "0  536365    85123A   WHITE HANGING HEART T-LIGHT HOLDER        6.000   \n",
       "1  536365     71053                  WHITE METAL LANTERN        6.000   \n",
       "2  536365    84406B       CREAM CUPID HEARTS COAT HANGER        8.000   \n",
       "3  536365    84029G  KNITTED UNION FLAG HOT WATER BOTTLE        6.000   \n",
       "4  536365    84029E       RED WOOLLY HOTTIE WHITE HEART.        6.000   \n",
       "\n",
       "          InvoiceDate  Price  Customer ID         Country  NetTotalPrice  \n",
       "0 2010-12-01 08:26:00  2.550    17850.000  United Kingdom         15.300  \n",
       "1 2010-12-01 08:26:00  3.390    17850.000  United Kingdom         20.340  \n",
       "2 2010-12-01 08:26:00  2.750    17850.000  United Kingdom         22.000  \n",
       "3 2010-12-01 08:26:00  3.390    17850.000  United Kingdom         20.340  \n",
       "4 2010-12-01 08:26:00  3.390    17850.000  United Kingdom         20.340  "
      ]
     },
     "execution_count": 18,
     "metadata": {},
     "output_type": "execute_result"
    }
   ],
   "source": [
    "df_adjusted = merged_df[['Invoice_purchase', 'StockCode', 'Description_purchase',  'NetQuantity', 'InvoiceDate_purchase',  'Price_purchase',\n",
    "       'Customer ID', 'Country_purchase',  'NetTotalPrice']]\n",
    "# Remove '_purchase' from column names\n",
    "df_adjusted.columns = df_adjusted.columns.str.replace('_purchase', '', regex=False)\n",
    "\n",
    "# Display the updated DataFrame\n",
    "df_adjusted.head()\n"
   ]
  },
  {
   "cell_type": "code",
   "execution_count": 19,
   "metadata": {},
   "outputs": [
    {
     "name": "stdout",
     "output_type": "stream",
     "text": [
      "2025-01-20 01:22:03.398255\n"
     ]
    },
    {
     "data": {
      "text/html": [
       "<div>\n",
       "<style scoped>\n",
       "    .dataframe tbody tr th:only-of-type {\n",
       "        vertical-align: middle;\n",
       "    }\n",
       "\n",
       "    .dataframe tbody tr th {\n",
       "        vertical-align: top;\n",
       "    }\n",
       "\n",
       "    .dataframe thead th {\n",
       "        text-align: right;\n",
       "    }\n",
       "</style>\n",
       "<table border=\"1\" class=\"dataframe\">\n",
       "  <thead>\n",
       "    <tr style=\"text-align: right;\">\n",
       "      <th></th>\n",
       "      <th>Customer ID</th>\n",
       "      <th>Recency</th>\n",
       "      <th>Frequency</th>\n",
       "      <th>Monetary</th>\n",
       "    </tr>\n",
       "  </thead>\n",
       "  <tbody>\n",
       "    <tr>\n",
       "      <th>0</th>\n",
       "      <td>12346.000</td>\n",
       "      <td>5115</td>\n",
       "      <td>1</td>\n",
       "      <td>77183.600</td>\n",
       "    </tr>\n",
       "    <tr>\n",
       "      <th>1</th>\n",
       "      <td>12347.000</td>\n",
       "      <td>4792</td>\n",
       "      <td>7</td>\n",
       "      <td>4310.000</td>\n",
       "    </tr>\n",
       "    <tr>\n",
       "      <th>2</th>\n",
       "      <td>12348.000</td>\n",
       "      <td>4865</td>\n",
       "      <td>4</td>\n",
       "      <td>1797.240</td>\n",
       "    </tr>\n",
       "    <tr>\n",
       "      <th>3</th>\n",
       "      <td>12349.000</td>\n",
       "      <td>4808</td>\n",
       "      <td>1</td>\n",
       "      <td>1757.550</td>\n",
       "    </tr>\n",
       "    <tr>\n",
       "      <th>4</th>\n",
       "      <td>12350.000</td>\n",
       "      <td>5100</td>\n",
       "      <td>1</td>\n",
       "      <td>334.400</td>\n",
       "    </tr>\n",
       "  </tbody>\n",
       "</table>\n",
       "</div>"
      ],
      "text/plain": [
       "   Customer ID  Recency  Frequency  Monetary\n",
       "0    12346.000     5115          1 77183.600\n",
       "1    12347.000     4792          7  4310.000\n",
       "2    12348.000     4865          4  1797.240\n",
       "3    12349.000     4808          1  1757.550\n",
       "4    12350.000     5100          1   334.400"
      ]
     },
     "metadata": {},
     "output_type": "display_data"
    }
   ],
   "source": [
    "# Get today's date as a datetime object\n",
    "date = datetime.today()\n",
    "print(date)\n",
    "# Group by \"Customer ID\" and perform the aggregation\n",
    "rfm = df_adjusted.groupby(\"Customer ID\").aggregate({\n",
    "    \"InvoiceDate\": lambda dates: (date - dates.max()).days,  # Days since last purchase\n",
    "    \"Invoice\": \"nunique\",  # Number of unique invoices\n",
    "    \"NetTotalPrice\": \"sum\"  # Total spending\n",
    "}).reset_index()\n",
    "\n",
    "# Rename columns for better clarity (optional)\n",
    "rfm.rename(columns={\n",
    "    \"InvoiceDate\": \"Recency\",\n",
    "    \"Invoice\": \"Frequency\",\n",
    "    \"NetTotalPrice\": \"Monetary\"\n",
    "}, inplace=True)\n",
    "\n",
    "# Display the resulting summary\n",
    "display(rfm.head())\n"
   ]
  },
  {
   "cell_type": "code",
   "execution_count": 20,
   "metadata": {},
   "outputs": [
    {
     "data": {
      "text/html": [
       "<div>\n",
       "<style scoped>\n",
       "    .dataframe tbody tr th:only-of-type {\n",
       "        vertical-align: middle;\n",
       "    }\n",
       "\n",
       "    .dataframe tbody tr th {\n",
       "        vertical-align: top;\n",
       "    }\n",
       "\n",
       "    .dataframe thead th {\n",
       "        text-align: right;\n",
       "    }\n",
       "</style>\n",
       "<table border=\"1\" class=\"dataframe\">\n",
       "  <thead>\n",
       "    <tr style=\"text-align: right;\">\n",
       "      <th></th>\n",
       "      <th>Customer ID</th>\n",
       "      <th>Recency</th>\n",
       "      <th>Frequency</th>\n",
       "      <th>Monetary</th>\n",
       "    </tr>\n",
       "  </thead>\n",
       "  <tbody>\n",
       "    <tr>\n",
       "      <th>count</th>\n",
       "      <td>4339.000</td>\n",
       "      <td>4339.000</td>\n",
       "      <td>4339.000</td>\n",
       "      <td>4339.000</td>\n",
       "    </tr>\n",
       "    <tr>\n",
       "      <th>mean</th>\n",
       "      <td>15299.937</td>\n",
       "      <td>4882.041</td>\n",
       "      <td>4.272</td>\n",
       "      <td>2053.797</td>\n",
       "    </tr>\n",
       "    <tr>\n",
       "      <th>std</th>\n",
       "      <td>1721.890</td>\n",
       "      <td>100.008</td>\n",
       "      <td>7.705</td>\n",
       "      <td>8988.248</td>\n",
       "    </tr>\n",
       "    <tr>\n",
       "      <th>min</th>\n",
       "      <td>12346.000</td>\n",
       "      <td>4790.000</td>\n",
       "      <td>1.000</td>\n",
       "      <td>0.000</td>\n",
       "    </tr>\n",
       "    <tr>\n",
       "      <th>25%</th>\n",
       "      <td>13812.500</td>\n",
       "      <td>4807.000</td>\n",
       "      <td>1.000</td>\n",
       "      <td>307.245</td>\n",
       "    </tr>\n",
       "    <tr>\n",
       "      <th>50%</th>\n",
       "      <td>15299.000</td>\n",
       "      <td>4840.000</td>\n",
       "      <td>2.000</td>\n",
       "      <td>674.450</td>\n",
       "    </tr>\n",
       "    <tr>\n",
       "      <th>75%</th>\n",
       "      <td>16778.500</td>\n",
       "      <td>4931.500</td>\n",
       "      <td>5.000</td>\n",
       "      <td>1661.640</td>\n",
       "    </tr>\n",
       "    <tr>\n",
       "      <th>max</th>\n",
       "      <td>18287.000</td>\n",
       "      <td>5163.000</td>\n",
       "      <td>210.000</td>\n",
       "      <td>280206.020</td>\n",
       "    </tr>\n",
       "  </tbody>\n",
       "</table>\n",
       "</div>"
      ],
      "text/plain": [
       "       Customer ID  Recency  Frequency   Monetary\n",
       "count     4339.000 4339.000   4339.000   4339.000\n",
       "mean     15299.937 4882.041      4.272   2053.797\n",
       "std       1721.890  100.008      7.705   8988.248\n",
       "min      12346.000 4790.000      1.000      0.000\n",
       "25%      13812.500 4807.000      1.000    307.245\n",
       "50%      15299.000 4840.000      2.000    674.450\n",
       "75%      16778.500 4931.500      5.000   1661.640\n",
       "max      18287.000 5163.000    210.000 280206.020"
      ]
     },
     "execution_count": 20,
     "metadata": {},
     "output_type": "execute_result"
    }
   ],
   "source": [
    "rfm.describe()"
   ]
  },
  {
   "cell_type": "code",
   "execution_count": 21,
   "metadata": {},
   "outputs": [
    {
     "data": {
      "text/plain": [
       "(4339, 4)"
      ]
     },
     "execution_count": 21,
     "metadata": {},
     "output_type": "execute_result"
    }
   ],
   "source": [
    "rfm.shape"
   ]
  },
  {
   "cell_type": "markdown",
   "metadata": {},
   "source": [
    "## Calculating RFM Scores"
   ]
  },
  {
   "cell_type": "markdown",
   "metadata": {},
   "source": [
    "Divide Recency, Frequency and Monetary columns into 5 quantile-based bins and assign a score betwee 1 and 5 to each bin where 5 represents the most recent (lowest recency), the least frequent and also with the highest monetary value. Later on we will use the scores assigned to rank customers based on their RF values. The RF composite value is created by combining Recency and Frequency scores into a single string."
   ]
  },
  {
   "cell_type": "code",
   "execution_count": 23,
   "metadata": {},
   "outputs": [
    {
     "data": {
      "text/html": [
       "<div>\n",
       "<style scoped>\n",
       "    .dataframe tbody tr th:only-of-type {\n",
       "        vertical-align: middle;\n",
       "    }\n",
       "\n",
       "    .dataframe tbody tr th {\n",
       "        vertical-align: top;\n",
       "    }\n",
       "\n",
       "    .dataframe thead th {\n",
       "        text-align: right;\n",
       "    }\n",
       "</style>\n",
       "<table border=\"1\" class=\"dataframe\">\n",
       "  <thead>\n",
       "    <tr style=\"text-align: right;\">\n",
       "      <th></th>\n",
       "      <th>Customer ID</th>\n",
       "      <th>Recency</th>\n",
       "      <th>Frequency</th>\n",
       "      <th>Monetary</th>\n",
       "      <th>RecencyScore</th>\n",
       "      <th>MonetaryScore</th>\n",
       "      <th>FrequencyScore</th>\n",
       "      <th>RF_Score</th>\n",
       "    </tr>\n",
       "  </thead>\n",
       "  <tbody>\n",
       "    <tr>\n",
       "      <th>0</th>\n",
       "      <td>12346.000</td>\n",
       "      <td>5115</td>\n",
       "      <td>1</td>\n",
       "      <td>77183.600</td>\n",
       "      <td>1</td>\n",
       "      <td>1</td>\n",
       "      <td>5</td>\n",
       "      <td>15</td>\n",
       "    </tr>\n",
       "    <tr>\n",
       "      <th>1</th>\n",
       "      <td>12347.000</td>\n",
       "      <td>4792</td>\n",
       "      <td>7</td>\n",
       "      <td>4310.000</td>\n",
       "      <td>5</td>\n",
       "      <td>1</td>\n",
       "      <td>1</td>\n",
       "      <td>51</td>\n",
       "    </tr>\n",
       "    <tr>\n",
       "      <th>2</th>\n",
       "      <td>12348.000</td>\n",
       "      <td>4865</td>\n",
       "      <td>4</td>\n",
       "      <td>1797.240</td>\n",
       "      <td>2</td>\n",
       "      <td>2</td>\n",
       "      <td>2</td>\n",
       "      <td>22</td>\n",
       "    </tr>\n",
       "    <tr>\n",
       "      <th>3</th>\n",
       "      <td>12349.000</td>\n",
       "      <td>4808</td>\n",
       "      <td>1</td>\n",
       "      <td>1757.550</td>\n",
       "      <td>4</td>\n",
       "      <td>2</td>\n",
       "      <td>5</td>\n",
       "      <td>45</td>\n",
       "    </tr>\n",
       "    <tr>\n",
       "      <th>4</th>\n",
       "      <td>12350.000</td>\n",
       "      <td>5100</td>\n",
       "      <td>1</td>\n",
       "      <td>334.400</td>\n",
       "      <td>1</td>\n",
       "      <td>4</td>\n",
       "      <td>5</td>\n",
       "      <td>15</td>\n",
       "    </tr>\n",
       "  </tbody>\n",
       "</table>\n",
       "</div>"
      ],
      "text/plain": [
       "   Customer ID  Recency  Frequency  Monetary RecencyScore MonetaryScore  \\\n",
       "0    12346.000     5115          1 77183.600            1             1   \n",
       "1    12347.000     4792          7  4310.000            5             1   \n",
       "2    12348.000     4865          4  1797.240            2             2   \n",
       "3    12349.000     4808          1  1757.550            4             2   \n",
       "4    12350.000     5100          1   334.400            1             4   \n",
       "\n",
       "  FrequencyScore RF_Score  \n",
       "0              5       15  \n",
       "1              1       51  \n",
       "2              2       22  \n",
       "3              5       45  \n",
       "4              5       15  "
      ]
     },
     "execution_count": 23,
     "metadata": {},
     "output_type": "execute_result"
    }
   ],
   "source": [
    "quantile_labels = [5, 4, 3, 2, 1]\n",
    "\n",
    "rfm.loc[:, \"RecencyScore\"] = pd.qcut(rfm[\"Recency\"], 5, labels=quantile_labels)\n",
    "\n",
    "rfm = rfm.copy()  # Ensure it is a standalone copy\n",
    "\n",
    "# Assign MonetaryScore with explicit casting to category dtype\n",
    "rfm[\"MonetaryScore\"] = pd.qcut(rfm[\"Monetary\"], 5, labels=quantile_labels).astype(\"category\")\n",
    "\n",
    "# Assign FrequencyScore with explicit casting to category dtype\n",
    "rfm[\"FrequencyScore\"] = pd.qcut(rfm[\"Frequency\"].rank(method=\"first\"), 5, labels=quantile_labels).astype(\"category\")\n",
    "\n",
    "rfm[\"RF_Score\"] = rfm[\"RecencyScore\"].astype(str) +  rfm[\"FrequencyScore\"].astype(str)\n",
    "rfm.head()"
   ]
  },
  {
   "cell_type": "markdown",
   "metadata": {},
   "source": [
    "## Creating RFM Segments"
   ]
  },
  {
   "cell_type": "markdown",
   "metadata": {},
   "source": [
    "In this section, we assign each customer to a specific segment based on their RFM scores (RF_Score). The segmentation is done using the following logic.\n",
    "Based on their RF_Score, customers are categorized into segments:\n",
    "\n",
    "    - Champions: Highly engaged and frequent customers (e.g., RF_Score = 55).\n",
    "    - Loyal Customers: Regular and valuable customers (RF_Score = 44, 45, etc.).\n",
    "    - At Risk: Previously active customers who are now less engaged (RF_Score = 23, 24).\n",
    "    - Hibernating: Least engaged customers who haven't purchased in a while (RF_Score = 11, 22).\n",
    "    - New Customers: Recently acquired customers (RF_Score = 51).\n",
    "    - Potential Loyalists: Customers who have purchased recently and show moderate frequency.\n",
    "    - Promising: Customers who have purchased very recently but infrequently.\n",
    "    - About to Sleep: Customers have recently disengaged and were infrequent buyers before disengaging.\n",
    "    - Needs Attention: Average customers who fall into a neutral zone where they are not highly engaged but also not completely inactive."
   ]
  },
  {
   "cell_type": "code",
   "execution_count": 24,
   "metadata": {},
   "outputs": [
    {
     "data": {
      "text/html": [
       "<div>\n",
       "<style scoped>\n",
       "    .dataframe tbody tr th:only-of-type {\n",
       "        vertical-align: middle;\n",
       "    }\n",
       "\n",
       "    .dataframe tbody tr th {\n",
       "        vertical-align: top;\n",
       "    }\n",
       "\n",
       "    .dataframe thead th {\n",
       "        text-align: right;\n",
       "    }\n",
       "</style>\n",
       "<table border=\"1\" class=\"dataframe\">\n",
       "  <thead>\n",
       "    <tr style=\"text-align: right;\">\n",
       "      <th></th>\n",
       "      <th>Customer ID</th>\n",
       "      <th>Recency</th>\n",
       "      <th>Frequency</th>\n",
       "      <th>Monetary</th>\n",
       "      <th>RecencyScore</th>\n",
       "      <th>MonetaryScore</th>\n",
       "      <th>FrequencyScore</th>\n",
       "      <th>RF_Score</th>\n",
       "      <th>Segment</th>\n",
       "    </tr>\n",
       "  </thead>\n",
       "  <tbody>\n",
       "    <tr>\n",
       "      <th>0</th>\n",
       "      <td>12346.000</td>\n",
       "      <td>5115</td>\n",
       "      <td>1</td>\n",
       "      <td>77183.600</td>\n",
       "      <td>1</td>\n",
       "      <td>1</td>\n",
       "      <td>5</td>\n",
       "      <td>15</td>\n",
       "      <td>cannot loose</td>\n",
       "    </tr>\n",
       "    <tr>\n",
       "      <th>1</th>\n",
       "      <td>12347.000</td>\n",
       "      <td>4792</td>\n",
       "      <td>7</td>\n",
       "      <td>4310.000</td>\n",
       "      <td>5</td>\n",
       "      <td>1</td>\n",
       "      <td>1</td>\n",
       "      <td>51</td>\n",
       "      <td>new customers</td>\n",
       "    </tr>\n",
       "    <tr>\n",
       "      <th>2</th>\n",
       "      <td>12348.000</td>\n",
       "      <td>4865</td>\n",
       "      <td>4</td>\n",
       "      <td>1797.240</td>\n",
       "      <td>2</td>\n",
       "      <td>2</td>\n",
       "      <td>2</td>\n",
       "      <td>22</td>\n",
       "      <td>hibernating</td>\n",
       "    </tr>\n",
       "    <tr>\n",
       "      <th>3</th>\n",
       "      <td>12349.000</td>\n",
       "      <td>4808</td>\n",
       "      <td>1</td>\n",
       "      <td>1757.550</td>\n",
       "      <td>4</td>\n",
       "      <td>2</td>\n",
       "      <td>5</td>\n",
       "      <td>45</td>\n",
       "      <td>loyal customers</td>\n",
       "    </tr>\n",
       "    <tr>\n",
       "      <th>4</th>\n",
       "      <td>12350.000</td>\n",
       "      <td>5100</td>\n",
       "      <td>1</td>\n",
       "      <td>334.400</td>\n",
       "      <td>1</td>\n",
       "      <td>4</td>\n",
       "      <td>5</td>\n",
       "      <td>15</td>\n",
       "      <td>cannot loose</td>\n",
       "    </tr>\n",
       "  </tbody>\n",
       "</table>\n",
       "</div>"
      ],
      "text/plain": [
       "   Customer ID  Recency  Frequency  Monetary RecencyScore MonetaryScore  \\\n",
       "0    12346.000     5115          1 77183.600            1             1   \n",
       "1    12347.000     4792          7  4310.000            5             1   \n",
       "2    12348.000     4865          4  1797.240            2             2   \n",
       "3    12349.000     4808          1  1757.550            4             2   \n",
       "4    12350.000     5100          1   334.400            1             4   \n",
       "\n",
       "  FrequencyScore RF_Score          Segment  \n",
       "0              5       15     cannot loose  \n",
       "1              1       51    new customers  \n",
       "2              2       22      hibernating  \n",
       "3              5       45  loyal customers  \n",
       "4              5       15     cannot loose  "
      ]
     },
     "execution_count": 24,
     "metadata": {},
     "output_type": "execute_result"
    }
   ],
   "source": [
    "segment_map = {\n",
    "    r\"[1-2][1-2]\": \"hibernating\",\n",
    "    r\"[1-2][3-4]\": \"at risk\",\n",
    "    r\"[1-2]5\": \"cannot loose\",\n",
    "    r\"3[1-2]\": \"about to sleep\",\n",
    "    r\"33\": \"needs attention\",\n",
    "    r\"[3-4][4-5]\": \"loyal customers\",\n",
    "    r\"41\": \"promising\",\n",
    "    r\"51\": \"new customers\",\n",
    "    r\"[4-5][2-3]\": \"potential loyalists\",\n",
    "    r\"5[4-5]\": \"champions\"\n",
    "}\n",
    "\n",
    "rfm[\"Segment\"] = rfm[\"RF_Score\"].replace(segment_map, regex=True)\n",
    "rfm.head()"
   ]
  },
  {
   "cell_type": "markdown",
   "metadata": {},
   "source": [
    "## Results and Discussion"
   ]
  },
  {
   "cell_type": "markdown",
   "metadata": {},
   "source": [
    "\n",
    "Champions are the most valuable customers, consistently engaging with the website and making frequent, high-value purchases. With a relatively recent mean recency value of 4795.362, they are a priority for retention. Beyond retention, they can be leveraged as brand advocates through referral programs, testimonials, or early access to new products. Similarly, the \"Cannot lose them\" group is highly active, with a mean frequency of 8.381, but they have not engaged recently (mean recency: 5276.278). Win-back strategies like personalized emails, exclusive discounts, or targeted reminders are essential to bring them back.\n",
    "\n",
    "The \"At risk\" customers have not engaged recently, with a mean recency value of 4942.786. Immediate re-engagement campaigns, such as reminders about past purchases or limited-time offers, can help retain them. Loyal customers, with a good frequency of 6.480, provide consistent value to the business. Offering them exclusive perks or rewards could further strengthen their loyalty. Hibernating customers, with the lowest frequency of 1.102, are disengaged, making infrequent, low-value purchases. Similarly, the \"About to sleep\" group has a slightly better frequency of 1.162, but they are close to inactivity. For these groups, low-cost re-engagement strategies, like seasonal discounts or \"we miss you\" campaigns, can rekindle interest.\n",
    "\n",
    "New customers, with a frequency of 1, have minimal engagement as they have been recently acquired. Onboarding campaigns or personalized product recommendations can help nurture them. The \"Promising\" and \"Potential Loyalist\" groups, with initial engagement and moderate frequencies, need targeted campaigns to encourage repeat purchases. A focus on retaining high-value segments, implementing win-back strategies for \"at risk\" and \"cannot lose\" groups, and nurturing newer or less engaged segments ensures a well-rounded marketing approach that effectively prioritizes retention and growth."
   ]
  },
  {
   "cell_type": "code",
   "execution_count": 25,
   "metadata": {},
   "outputs": [
    {
     "data": {
      "text/html": [
       "<div>\n",
       "<style scoped>\n",
       "    .dataframe tbody tr th:only-of-type {\n",
       "        vertical-align: middle;\n",
       "    }\n",
       "\n",
       "    .dataframe tbody tr th {\n",
       "        vertical-align: top;\n",
       "    }\n",
       "\n",
       "    .dataframe thead tr th {\n",
       "        text-align: left;\n",
       "    }\n",
       "\n",
       "    .dataframe thead tr:last-of-type th {\n",
       "        text-align: right;\n",
       "    }\n",
       "</style>\n",
       "<table border=\"1\" class=\"dataframe\">\n",
       "  <thead>\n",
       "    <tr>\n",
       "      <th></th>\n",
       "      <th colspan=\"2\" halign=\"left\">Recency</th>\n",
       "      <th colspan=\"2\" halign=\"left\">Frequency</th>\n",
       "      <th colspan=\"2\" halign=\"left\">Monetary</th>\n",
       "    </tr>\n",
       "    <tr>\n",
       "      <th></th>\n",
       "      <th>mean</th>\n",
       "      <th>count</th>\n",
       "      <th>mean</th>\n",
       "      <th>count</th>\n",
       "      <th>mean</th>\n",
       "      <th>count</th>\n",
       "    </tr>\n",
       "    <tr>\n",
       "      <th>Segment</th>\n",
       "      <th></th>\n",
       "      <th></th>\n",
       "      <th></th>\n",
       "      <th></th>\n",
       "      <th></th>\n",
       "      <th></th>\n",
       "    </tr>\n",
       "  </thead>\n",
       "  <tbody>\n",
       "    <tr>\n",
       "      <th>about to sleep</th>\n",
       "      <td>4838.969</td>\n",
       "      <td>324</td>\n",
       "      <td>5.722</td>\n",
       "      <td>324</td>\n",
       "      <td>2467.356</td>\n",
       "      <td>324</td>\n",
       "    </tr>\n",
       "    <tr>\n",
       "      <th>at risk</th>\n",
       "      <td>4981.156</td>\n",
       "      <td>879</td>\n",
       "      <td>1.670</td>\n",
       "      <td>879</td>\n",
       "      <td>683.915</td>\n",
       "      <td>879</td>\n",
       "    </tr>\n",
       "    <tr>\n",
       "      <th>cannot loose</th>\n",
       "      <td>5010.771</td>\n",
       "      <td>564</td>\n",
       "      <td>1.000</td>\n",
       "      <td>564</td>\n",
       "      <td>516.461</td>\n",
       "      <td>564</td>\n",
       "    </tr>\n",
       "    <tr>\n",
       "      <th>champions</th>\n",
       "      <td>4796.626</td>\n",
       "      <td>99</td>\n",
       "      <td>1.323</td>\n",
       "      <td>99</td>\n",
       "      <td>502.987</td>\n",
       "      <td>99</td>\n",
       "    </tr>\n",
       "    <tr>\n",
       "      <th>hibernating</th>\n",
       "      <td>4925.067</td>\n",
       "      <td>284</td>\n",
       "      <td>4.870</td>\n",
       "      <td>284</td>\n",
       "      <td>1585.137</td>\n",
       "      <td>284</td>\n",
       "    </tr>\n",
       "    <tr>\n",
       "      <th>loyal customers</th>\n",
       "      <td>4831.189</td>\n",
       "      <td>566</td>\n",
       "      <td>1.178</td>\n",
       "      <td>566</td>\n",
       "      <td>449.249</td>\n",
       "      <td>566</td>\n",
       "    </tr>\n",
       "    <tr>\n",
       "      <th>needs attention</th>\n",
       "      <td>4841.428</td>\n",
       "      <td>187</td>\n",
       "      <td>2.326</td>\n",
       "      <td>187</td>\n",
       "      <td>897.628</td>\n",
       "      <td>187</td>\n",
       "    </tr>\n",
       "    <tr>\n",
       "      <th>new customers</th>\n",
       "      <td>4795.200</td>\n",
       "      <td>439</td>\n",
       "      <td>16.048</td>\n",
       "      <td>439</td>\n",
       "      <td>9204.022</td>\n",
       "      <td>439</td>\n",
       "    </tr>\n",
       "    <tr>\n",
       "      <th>potential loyalists</th>\n",
       "      <td>4805.180</td>\n",
       "      <td>752</td>\n",
       "      <td>3.387</td>\n",
       "      <td>752</td>\n",
       "      <td>1457.493</td>\n",
       "      <td>752</td>\n",
       "    </tr>\n",
       "    <tr>\n",
       "      <th>promising</th>\n",
       "      <td>4811.706</td>\n",
       "      <td>245</td>\n",
       "      <td>9.967</td>\n",
       "      <td>245</td>\n",
       "      <td>4738.166</td>\n",
       "      <td>245</td>\n",
       "    </tr>\n",
       "  </tbody>\n",
       "</table>\n",
       "</div>"
      ],
      "text/plain": [
       "                     Recency       Frequency       Monetary      \n",
       "                        mean count      mean count     mean count\n",
       "Segment                                                          \n",
       "about to sleep      4838.969   324     5.722   324 2467.356   324\n",
       "at risk             4981.156   879     1.670   879  683.915   879\n",
       "cannot loose        5010.771   564     1.000   564  516.461   564\n",
       "champions           4796.626    99     1.323    99  502.987    99\n",
       "hibernating         4925.067   284     4.870   284 1585.137   284\n",
       "loyal customers     4831.189   566     1.178   566  449.249   566\n",
       "needs attention     4841.428   187     2.326   187  897.628   187\n",
       "new customers       4795.200   439    16.048   439 9204.022   439\n",
       "potential loyalists 4805.180   752     3.387   752 1457.493   752\n",
       "promising           4811.706   245     9.967   245 4738.166   245"
      ]
     },
     "execution_count": 25,
     "metadata": {},
     "output_type": "execute_result"
    }
   ],
   "source": [
    "rfm.groupby(\"Segment\")[[\"Recency\", \"Frequency\", \"Monetary\"]].agg([\"mean\", \"count\"])"
   ]
  },
  {
   "cell_type": "markdown",
   "metadata": {},
   "source": [
    " The Hibernating group dominates, with the largest number of customers indicating disengagement and low value, requiring low-cost re-engagement strategies. Loyal Customers and Champions are significant contributors, representing high-value customers who should be prioritized for retention and growth. Segments like At Risk and Potential Loyalists also have a notable presence, signaling opportunities for targeted interventions to re-engage or nurture them. Smaller segments, such as Cannot Lose Them and New Customers, highlight the need for personalized campaigns to either prevent churn or build loyalty. The chart emphasizes the importance of segment-specific strategies to maximize customer value effectively."
   ]
  },
  {
   "cell_type": "code",
   "execution_count": 26,
   "metadata": {},
   "outputs": [
    {
     "data": {
      "image/png": "[encoded data removed]",
      "text/plain": [
       "<Figure size 800x800 with 1 Axes>"
      ]
     },
     "metadata": {},
     "output_type": "display_data"
    }
   ],
   "source": [
    "\n",
    "# Assuming `rfm` DataFrame contains a 'Segment' column with customer segmentation\n",
    "# Calculate the proportion of customers in each segment\n",
    "segment_proportions = rfm[\"Segment\"].value_counts(normalize=True) * 100\n",
    "\n",
    "# Pie chart for segment proportions\n",
    "plt.figure(figsize=(8, 8))\n",
    "segment_proportions.plot(kind=\"pie\", autopct=\"%.1f%%\")\n",
    "plt.title(\"Proportion of Customers in Each Segment\")\n",
    "plt.ylabel(\"\")  # Remove default ylabel for a cleaner pie chart\n",
    "plt.show()\n"
   ]
  },
  {
   "cell_type": "markdown",
   "metadata": {},
   "source": [
    "This bar chart highlights the median monetary value across RFM segments, showcasing the revenue potential of each group. Champions and Cannot Lose Them have the highest median values, emphasizing their critical role in driving revenue and the need for retention strategies like exclusive offers and loyalty programs. Loyal Customers also show significant monetary value, representing a stable and consistent revenue stream. Segments such as At Risk and Needs Attention indicate opportunities for re-engagement to recover their potential value. On the other hand, Hibernating, Promising, and New Customers have the lowest median values, requiring nurturing efforts to increase their spending and convert them into higher-value segments over time. This chart underscores the importance of focusing on high-value segments while strategically nurturing others for growth."
   ]
  },
  {
   "cell_type": "code",
   "execution_count": 27,
   "metadata": {},
   "outputs": [
    {
     "data": {
      "image/png": "[encoded data removed]",
      "text/plain": [
       "<Figure size 1000x600 with 1 Axes>"
      ]
     },
     "metadata": {},
     "output_type": "display_data"
    }
   ],
   "source": [
    "# Calculate median monetary value for each segment\n",
    "segment_monetary = rfm.groupby(\"Segment\")[\"Monetary\"].median() \n",
    "\n",
    "# Bar plot for median monetary value by segment\n",
    "plt.figure(figsize=(10, 6))\n",
    "sns.barplot(x=segment_monetary.index, y=segment_monetary.values, dodge=False)\n",
    "plt.title('Median Monetary Value by Segment')\n",
    "plt.xlabel('Segment')\n",
    "plt.ylabel('Median Monetary Value')\n",
    "plt.xticks(rotation=45)\n",
    "plt.show()\n"
   ]
  },
  {
   "cell_type": "markdown",
   "metadata": {},
   "source": [
    "Champions have the highest median monetary value and the widest distribution, with high-value outliers contributing significantly to revenue, making them a priority for retention through strategies like VIP rewards, exclusive offers, and early product access. The \"Cannot Lose Them\" segment also shows high monetary values but slightly lower median and variability, highlighting the need for personalized win-back campaigns, such as loyalty bonuses, to prevent churn. Loyal customers provide stable, predictable revenue with a median value lower than Champions but higher than most segments, offering opportunities for upselling and cross-selling. In contrast, Hibernating and About to Sleep customers have the lowest monetary values, indicating disengagement, and can be targeted with low-cost re-engagement campaigns like discounts and seasonal promotions. Lastly, New and Promising customers, with low monetary values due to their early stage in the customer lifecycle, present potential for growth through onboarding, educational initiatives, and targeted promotions to build loyalty and increase their lifetime value."
   ]
  },
  {
   "cell_type": "code",
   "execution_count": 28,
   "metadata": {},
   "outputs": [
    {
     "data": {
      "image/png": "[encoded data removed]",
      "text/plain": [
       "<Figure size 1000x600 with 1 Axes>"
      ]
     },
     "metadata": {},
     "output_type": "display_data"
    }
   ],
   "source": [
    "# Logarithmic scale for better visualization\n",
    "plt.figure(figsize=(10, 6))\n",
    "sns.boxplot(data=rfm, x='Segment', y='Monetary')\n",
    "plt.yscale('log')  # Set y-axis to logarithmic scale\n",
    "plt.title('Monetary Value Distribution by Segment (Log Scale)')\n",
    "plt.xticks(rotation=45)\n",
    "plt.ylabel('Monetary (Log Scale)')\n",
    "plt.xlabel('Segment')\n",
    "plt.show()\n",
    "\n"
   ]
  },
  {
   "cell_type": "markdown",
   "metadata": {},
   "source": [
    "### **Customer Segment Characteristics and Strategies**\n",
    "\n",
    "| **Segment**           | **Description**                                                                 | **Key Characteristics**                                                 | **Suggested Actions**                                                                                 |\n",
    "|------------------------|---------------------------------------------------------------------------------|---------------------------------------------------------------------------|-------------------------------------------------------------------------------------------------------|\n",
    "| **Champions**          | High-value and highly engaged customers.                                       | Recent purchases, frequent buyers, high monetary value.                  | Retain with loyalty programs, exclusive rewards, and early product access.                           |\n",
    "| **Loyal Customers**    | Regular and consistent buyers.                                                | Moderate recency, high frequency, good monetary value.                   | Upsell or cross-sell with personalized recommendations and reward programs.                          |\n",
    "| **Potential Loyalists**| Customers with recent purchases and moderate frequency.                       | High recency, moderate frequency, growing monetary value.                | Nurture with targeted offers, personalized engagement, and incentives to increase loyalty.           |\n",
    "| **New Customers**      | Recently acquired customers.                                                  | High recency, low frequency and monetary value.                          | Focus on onboarding, educational campaigns, and personalized product recommendations.                |\n",
    "| **Promising**          | Customers showing initial interest.                                           | Moderately recent purchases, low frequency and monetary value.           | Encourage repeat purchases with tailored discounts and promotional campaigns.                        |\n",
    "| **Needs Attention**    | Customers with moderate engagement but declining activity.                    | Moderate recency and frequency, moderate monetary value.                 | Re-engage with personalized offers and time-sensitive campaigns to boost activity.                   |\n",
    "| **About to Sleep**     | Customers on the verge of becoming inactive.                                  | Low recency, low frequency, low monetary value.                          | Use re-engagement emails, \"we miss you\" campaigns, and small incentives to revive interest.          |\n",
    "| **At Risk**            | Previously active customers who are disengaging.                              | Low recency, moderate frequency, moderate monetary value.                | Implement win-back strategies, personalized messages, and special offers to prevent churn.           |\n",
    "| **Cannot Lose Them**   | High-value customers who are no longer engaging.                              | Low recency, high frequency, high monetary value.                        | Use premium win-back campaigns with significant incentives to recover their interest.                |\n",
    "| **Hibernating**        | Disengaged customers with little to no activity.                              | Very low recency and frequency, low monetary value.                      | Low-cost reactivation campaigns like seasonal discounts or bulk promotional emails.                  |\n"
   ]
  }
 ],
 "metadata": {
  "kernelspec": {
   "display_name": "crm-RapAyJKM-py3.12",
   "language": "python",
   "name": "python3"
  },
  "language_info": {
   "codemirror_mode": {
    "name": "ipython",
    "version": 3
   },
   "file_extension": ".py",
   "mimetype": "text/x-python",
   "name": "python",
   "nbconvert_exporter": "python",
   "pygments_lexer": "ipython3",
   "version": "3.12.7"
  }
 },
 "nbformat": 4,
 "nbformat_minor": 2
}
